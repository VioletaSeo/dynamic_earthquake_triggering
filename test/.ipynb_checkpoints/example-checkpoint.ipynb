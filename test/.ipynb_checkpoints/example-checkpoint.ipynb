{
 "cells": [
  {
   "cell_type": "markdown",
   "metadata": {
    "collapsed": true
   },
   "source": [
    "### Example for HiFi\n",
    "Before calculating, some parameters(or hyperparameters) are needed to be set in the file *parameters.json*. A detailed description of these parameters is as follow.\n",
    "- \"info\"\n",
    "\t+ \"root_path\": project path, which is the path of *test* dictory at here\n",
    "\t+ \"sta_file\": file containing station information in the format like *data/stations.txt*\n",
    "\t+ \"chn_list\": channels\n",
    "- \"pi\"\n",
    "\t+ \"cores\": number of processes depending on the computer device\n",
    "\t+ \"time_segment\": segment of time for calculating power integral\n",
    "\t+ \"f_win_list\": frequency windows\n",
    "\t+ \"gf_info\": informations of istrument response PZ file for each sac file\n",
    "\t+ \"raw_data_path\": dictory of raw sac data\n",
    "\t+ \"pi_database_path\": dictory to store power integral database\n",
    "- \"tele_pir\"\n",
    "\t+ \"tele_catalog\": catalog file of teleseismic events in the format like *data/teleseismic_catalog.csv*\n",
    "\t+ \"tele_pir_path\": dictory to store the power integral ratio (PIR) values of the teleseismic events\n",
    "- \"background_pir\"\n",
    "\t+ \"day_window\": number of background days for one teleseismic event\n",
    "\t+ \"background_catalog\": catalog of the background days\n",
    "\t+ \"background_pir_path\": dictory to store the PIR values of the background days\n",
    "\t+ \"background_pir_associated_path\": dictory to store the background PIR after associating\n",
    "- \"confidence_level\"\n",
    "\t+ \"cl_path\": dictory to store the confidence level\n",
    "\n",
    "Now, let's run it!"
   ]
  },
  {
   "cell_type": "markdown",
   "metadata": {},
   "source": [
    "First, define a HiFi instance."
   ]
  },
  {
   "cell_type": "code",
   "execution_count": 1,
   "metadata": {},
   "outputs": [
    {
     "ename": "ModuleNotFoundError",
     "evalue": "No module named 'dyntrigger'",
     "output_type": "error",
     "traceback": [
      "\u001b[0;31m---------------------------------------------------------------------------\u001b[0m",
      "\u001b[0;31mModuleNotFoundError\u001b[0m                       Traceback (most recent call last)",
      "\u001b[0;32m<ipython-input-1-523f9a57fa58>\u001b[0m in \u001b[0;36m<module>\u001b[0;34m()\u001b[0m\n\u001b[1;32m      3\u001b[0m \u001b[0;32mimport\u001b[0m \u001b[0mjson\u001b[0m\u001b[0;34m\u001b[0m\u001b[0m\n\u001b[1;32m      4\u001b[0m \u001b[0;34m\u001b[0m\u001b[0m\n\u001b[0;32m----> 5\u001b[0;31m \u001b[0;32mfrom\u001b[0m \u001b[0mdyntrigger\u001b[0m\u001b[0;34m.\u001b[0m\u001b[0mhifi\u001b[0m\u001b[0;34m.\u001b[0m\u001b[0mHiFi\u001b[0m \u001b[0;32mimport\u001b[0m \u001b[0mHiFi\u001b[0m\u001b[0;34m\u001b[0m\u001b[0m\n\u001b[0m\u001b[1;32m      6\u001b[0m \u001b[0;34m\u001b[0m\u001b[0m\n\u001b[1;32m      7\u001b[0m \u001b[0;34m\u001b[0m\u001b[0m\n",
      "\u001b[0;31mModuleNotFoundError\u001b[0m: No module named 'dyntrigger'"
     ]
    }
   ],
   "source": [
    "import os\n",
    "import sys\n",
    "import json\n",
    "\n",
    "from dyntrigger.hifi.HiFi import HiFi\n",
    "\n",
    "\n",
    "hypers_f = open('parameters.json', 'r', encoding='utf-8')\n",
    "hypers = json.load(hypers_f)\n",
    "detector = HiFi(hypers)"
   ]
  },
  {
   "cell_type": "code",
   "execution_count": 2,
   "metadata": {},
   "outputs": [
    {
     "name": "stdout",
     "output_type": "stream",
     "text": [
      "/Users/yunnaidan/Project/Dynamic_triggering/_source/test\n"
     ]
    }
   ],
   "source": [
    "import os\n",
    "print (os.getcwd())"
   ]
  },
  {
   "cell_type": "code",
   "execution_count": null,
   "metadata": {},
   "outputs": [],
   "source": []
  }
 ],
 "metadata": {
  "kernelspec": {
   "display_name": "Python 3",
   "language": "python",
   "name": "python3"
  },
  "language_info": {
   "codemirror_mode": {
    "name": "ipython",
    "version": 3
   },
   "file_extension": ".py",
   "mimetype": "text/x-python",
   "name": "python",
   "nbconvert_exporter": "python",
   "pygments_lexer": "ipython3",
   "version": "3.6.5"
  }
 },
 "nbformat": 4,
 "nbformat_minor": 1
}
