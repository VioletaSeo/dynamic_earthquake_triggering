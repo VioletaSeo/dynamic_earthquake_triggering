{
 "cells": [
  {
   "cell_type": "markdown",
   "metadata": {
    "collapsed": true
   },
   "source": [
    "### Example for HiFi\n",
    "Before calculating, some parameters(or hyperparameters) are needed to be set in the file *parameters.json*. A detailed description of these parameters is as follows.\n",
    "- \"info\"\n",
    "\t+ \"root_path\": project path, which is the path of *test* dictory in this test project.\n",
    "\t+ \"sta_file\": file containing station information in the format like that of *data/stations.txt*\n",
    "\t+ \"chn_list\": channels\n",
    "- \"pi\"\n",
    "\t+ \"time_segment\": segment of time for calculating power integral\n",
    "\t+ \"f_range\": range of frequencies to be integrated\n",
    "\t+ \"f_step\": length of each frequency integration segment\n",
    "\t+ \"gf_info\": informations of istrument response PZ file for each sac file\n",
    "\t+ \"raw_data_path\": folder of raw sac data\n",
    "\t+ \"pi_database_path\": folder to store power integral database\n",
    "- \"tele_pir\"\n",
    "\t+ \"tele_catalog\": catalog file of teleseismic events in the format like that of *data/teleseismic_catalog.csv*\n",
    "\t+ \"tele_pir_path\": folder to store the power integral ratio (PIR) values of the teleseismic events\n",
    "- \"background_pir\"\n",
    "\t+ \"day_window\": number of background days for one teleseismic event\n",
    "\t+ \"background_catalog\": catalog of the background days\n",
    "\t+ \"background_pir_path\": folder to store the PIR values of the background days\n",
    "\t+ \"background_pir_associated_path\": folder to store the background PIR after associating\n",
    "- \"confidence_level\"\n",
    "\t+ \"cl_path\": folder to store the confidence level\n",
    "\n",
    "The above are the parameters needed to calculate the confidence level.\n",
    "\n",
    "This package also provides some drawing tools to show the PSD and distribution of background PIR values.\n",
    "- \"plot\"\n",
    "\t+ \"sta\": plot the PSD of the seismograme recorded by this station.\n",
    "\t+ \"chn\": plot the PSD of this channel.\n",
    "\t+ \"event_data_path\": folder to store the waveform of teleseismic events after removing the response, which is used to plot the PSD.\n",
    "\t+ \"psd_figure_path\": folder to store the figures of PSD.\n",
    "\t+ \"background_pir_figure_path\": folder to store the figures of the background PIR distribution.\n",
    "\n",
    "Because most of the reasearches about dynamic triggering concern peak dynamic stress, we provides a tool to calculate it.\n",
    "- \"stress\"\n",
    "\t+ \"shear_wave_velocity\": velocity of the shear wave.\n",
    "\t+ \"shear_modulus\": shear modulus (default value is 3e4 MPa) \n",
    "\t+ \"event_data_path\": folder to store the waveform of teleseismic events after removing the response containing the peak ground velocity.\n",
    "\t+ \"peak_dynamic_stress_file\": File to record the results of peak dynamic stress.\n",
    "\n",
    "Noted that the parameters for plotting and calculate peak dynamic stress are not necessary. If you don't want to use these functions, the values of these parameters are not needed to be filled in. But, do not delete the key wards of these parameters.\n",
    "\n",
    "Now, let's run it!"
   ]
  },
  {
   "cell_type": "markdown",
   "metadata": {},
   "source": [
    "First, define a HiFi instance."
   ]
  },
  {
   "cell_type": "code",
   "execution_count": 9,
   "metadata": {},
   "outputs": [],
   "source": [
    "import os\n",
    "import json\n",
    "\n",
    "from dyntrigger.hifi.HiFi import HiFi\n",
    "from dyntrigger.utils.preprocess_tele_catalog import begin_v_end_v\n",
    "\n",
    "os.chdir(\"/Users/yunnaidan/Project/Dynamic_triggering/_source/test/bin\")\n",
    "hypers_f = open('parameters.json', 'r', encoding='utf-8')\n",
    "hypers = json.load(hypers_f)\n",
    "\n",
    "detector = HiFi(hypers)"
   ]
  },
  {
   "cell_type": "markdown",
   "metadata": {},
   "source": [
    "The next calculation can be divided into 4 parts, and the results of each part will be stored."
   ]
  },
  {
   "cell_type": "markdown",
   "metadata": {},
   "source": [
    "#### Part 1. Build a database of the power integrals\n",
    "This part contains most of the calculations for the project, So it only has a parallel framework. The number of processes *cores* should be set here, which depends on the compute device. Note that *cores* can still be set to 1 although this is a parallel framework."
   ]
  },
  {
   "cell_type": "code",
   "execution_count": 10,
   "metadata": {},
   "outputs": [
    {
     "name": "stdout",
     "output_type": "stream",
     "text": [
      "CI.ADO BHZ\n",
      "Calculate CI.ADO.BHZ in 2009\n",
      "finished:4/4\r"
     ]
    }
   ],
   "source": [
    "my_cores = 2\n",
    "detector.net_pi(cores=my_cores)"
   ]
  },
  {
   "cell_type": "markdown",
   "metadata": {},
   "source": [
    "Now we have a database for testing different parameters in subsequent calculations."
   ]
  },
  {
   "cell_type": "markdown",
   "metadata": {},
   "source": [
    "#### Part 2. Calculate the PIR values of teleseismic earthquakes\n",
    "A catalog of teleseismic events is needed, e.g. *data/teleseismic_catalog.csv*. The basic informations of \"time\", \"latitude\", \"longitude\", \"depth\", \"mag\" is nesseary and can be obtained from IRIS or USGS. Moreover, the upper (\"f_max\") and lower (\"f_min\") limits of frequency for integrals, length of frequency bin (\"f_step\") in the power integral database, begin and end times of T_b and T_e windows and distance between the teleseismic event and the research area need to be set in the catalog. For example, the frequency bin is 5 if the \"f_win_list\" is [[5, 10], [10, 15], [15, 20]].\n",
    "Here, we provide a method to select the T_b and T_e windows, which is five hours for T_b and T_e is between arrivals of two teleseismic waves with speeds of 5 and 2 km/s. The function *Bvel_Evel* is the inplement of this kind of windows."
   ]
  },
  {
   "cell_type": "code",
   "execution_count": 12,
   "metadata": {},
   "outputs": [],
   "source": [
    "Tb = 18000\n",
    "vel_B = 5.0\n",
    "vel_E = 2.0\n",
    "ref_lat = 35.81574\n",
    "ref_lon = -117.59751\n",
    "begin_v_end_v(os.path.join(hypers['info']['root_path'],hypers['tele_pir']['tele_catalog']), \n",
    "          ref_lat, ref_lon, Tb, vel_B, vel_E)"
   ]
  },
  {
   "cell_type": "markdown",
   "metadata": {},
   "source": [
    "After preparing the catalog, we can start calculation the PIR values of teleseismic earthquakes."
   ]
  },
  {
   "cell_type": "code",
   "execution_count": 13,
   "metadata": {},
   "outputs": [
    {
     "name": "stdout",
     "output_type": "stream",
     "text": [
      "Calculate pir of 2009-01-03T19:43:50.650000Z\n",
      "finished:1/1\r"
     ]
    }
   ],
   "source": [
    "detector.net_tele_pir(cores=my_cores)"
   ]
  },
  {
   "cell_type": "markdown",
   "metadata": {},
   "source": [
    "#### Part 2. Calculate the PIR values of teleseismic earthquakes"
   ]
  },
  {
   "cell_type": "code",
   "execution_count": 14,
   "metadata": {},
   "outputs": [
    {
     "name": "stdout",
     "output_type": "stream",
     "text": [
      "Background days for: 2009-01-03T19:43:50.650000Z\n"
     ]
    }
   ],
   "source": [
    "detector.gen_background_catalog()"
   ]
  },
  {
   "cell_type": "markdown",
   "metadata": {},
   "source": [
    "Then, calculate the PIR values."
   ]
  },
  {
   "cell_type": "code",
   "execution_count": 15,
   "metadata": {},
   "outputs": [
    {
     "name": "stdout",
     "output_type": "stream",
     "text": [
      "Calculate pir of 2009-01-02T19:43:50.650000Z\n",
      "Calculate pir of 2009-01-04T19:43:50.650000Z\n",
      "finished:1/1\r"
     ]
    }
   ],
   "source": [
    "detector.net_background_pir(cores=my_cores)"
   ]
  },
  {
   "cell_type": "markdown",
   "metadata": {},
   "source": [
    "At the end of this section, we need to match the PIR of the teleseismic event with the PIRs of corresponding background days."
   ]
  },
  {
   "cell_type": "code",
   "execution_count": 16,
   "metadata": {},
   "outputs": [
    {
     "name": "stdout",
     "output_type": "stream",
     "text": [
      "Associate data of 2009-01-03T19:43:50.650000Z\n",
      "finished:1/1\r"
     ]
    }
   ],
   "source": [
    "detector.net_background_pir_asso(cores=my_cores)"
   ]
  },
  {
   "cell_type": "markdown",
   "metadata": {},
   "source": [
    "#### Part 4. Calculate the confidence levels"
   ]
  },
  {
   "cell_type": "code",
   "execution_count": 17,
   "metadata": {},
   "outputs": [
    {
     "name": "stdout",
     "output_type": "stream",
     "text": [
      "Calculate cl of 2009-01-03T19:43:50.650000Z\n",
      "finished:1/1\r"
     ]
    }
   ],
   "source": [
    "detector.net_cl(cores=my_cores)"
   ]
  },
  {
   "cell_type": "markdown",
   "metadata": {},
   "source": [
    "Calculation of confidence level is over. Next, I will show you how to use the tools to plot PSD and background PIR distribution."
   ]
  },
  {
   "cell_type": "markdown",
   "metadata": {},
   "source": [
    "#### Tool 1. Plotting\n",
    "After filling in the parameter values in parameter file, just run the following:"
   ]
  },
  {
   "cell_type": "code",
   "execution_count": 18,
   "metadata": {},
   "outputs": [
    {
     "name": "stdout",
     "output_type": "stream",
     "text": [
      "Plot 2009-01-03T19:43:50.650000Z...\n"
     ]
    },
    {
     "data": {
      "image/png": "[encoded data removed]",
      "text/plain": [
       "<Figure size 432x288 with 1 Axes>"
      ]
     },
     "metadata": {},
     "output_type": "display_data"
    }
   ],
   "source": [
    "detector.show_psd()\n",
    "detector.show_bg_pir()"
   ]
  },
  {
   "cell_type": "markdown",
   "metadata": {},
   "source": [
    "#### Tool 2. Peak dynamic stress\n",
    "After filling in the parameter values in parameter file, just run the following:"
   ]
  },
  {
   "cell_type": "code",
   "execution_count": 19,
   "metadata": {},
   "outputs": [
    {
     "name": "stdout",
     "output_type": "stream",
     "text": [
      "Plot 2009-01-03T19:43:50.650000Z...\n"
     ]
    }
   ],
   "source": [
    "detector.cal_peak_dynamic_stress()"
   ]
  },
  {
   "cell_type": "markdown",
   "metadata": {},
   "source": [
    "Noted that the default setting asks the number of background PIR values ​​should be larger than 30. Here, to simplify the test data, we just chose two background days, so the distribution cannot be drawn."
   ]
  },
  {
   "cell_type": "code",
   "execution_count": null,
   "metadata": {},
   "outputs": [],
   "source": []
  }
 ],
 "metadata": {
  "kernelspec": {
   "display_name": "Python 3",
   "language": "python",
   "name": "python3"
  },
  "language_info": {
   "codemirror_mode": {
    "name": "ipython",
    "version": 3
   },
   "file_extension": ".py",
   "mimetype": "text/x-python",
   "name": "python",
   "nbconvert_exporter": "python",
   "pygments_lexer": "ipython3",
   "version": "3.6.5"
  }
 },
 "nbformat": 4,
 "nbformat_minor": 1
}
