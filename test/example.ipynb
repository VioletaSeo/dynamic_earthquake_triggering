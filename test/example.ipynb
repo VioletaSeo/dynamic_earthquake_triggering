{
 "cells": [
  {
   "cell_type": "markdown",
   "metadata": {
    "collapsed": true
   },
   "source": [
    "### Example for HiFi\n",
    "Before calculating, some parameters(or hyperparameters) are needed to be set in the file *parameters.json*. A detailed description of these parameters is as follow.\n",
    "- \"info\"\n",
    "\t+ \"root_path\": project path, which is the path of *test* dictory at here\n",
    "\t+ \"sta_file\": file containing station information in the format like *data/stations.txt*\n",
    "\t+ \"chn_list\": channels\n",
    "- \"pi\"\n",
    "\t+ \"cores\": number of processes depending on the computer device\n",
    "\t+ \"time_segment\": segment of time for calculating power integral\n",
    "\t+ \"f_win_list\": frequency windows\n",
    "\t+ \"gf_info\": informations of istrument response PZ file for each sac file\n",
    "\t+ \"raw_data_path\": dictory of raw sac data\n",
    "\t+ \"pi_database_path\": dictory to store power integral database\n",
    "- \"tele_pir\"\n",
    "\t+ \"tele_catalog\": catalog file of teleseismic events in the format like *data/teleseismic_catalog.csv*\n",
    "\t+ \"tele_pir_path\": dictory to store the power integral ratio (PIR) values of the teleseismic events\n",
    "- \"background_pir\"\n",
    "\t+ \"day_window\": number of background days for one teleseismic event\n",
    "\t+ \"background_catalog\": catalog of the background days\n",
    "\t+ \"background_pir_path\": dictory to store the PIR values of the background days\n",
    "\t+ \"background_pir_associated_path\": dictory to store the background PIR after associating\n",
    "- \"confidence_level\"\n",
    "\t+ \"cl_path\": dictory to store the confidence level\n",
    "\n",
    "Now, let's run it!"
   ]
  },
  {
   "cell_type": "markdown",
   "metadata": {},
   "source": [
    "First, define a HiFi instance."
   ]
  },
  {
   "cell_type": "code",
   "execution_count": 1,
   "metadata": {},
   "outputs": [],
   "source": [
    "import os\n",
    "import json\n",
    "\n",
    "from dyntrigger.hifi.HiFi import HiFi\n",
    "from dyntrigger.utils.preprocess_tele_catalog import Bvel_Evel\n",
    "\n",
    "\n",
    "os.chdir('/Users/yunnaidan/Project/Dynamic_triggering/_source/test')\n",
    "hypers_f = open('parameters.json', 'r', encoding='utf-8')\n",
    "hypers = json.load(hypers_f)\n",
    "detector = HiFi(hypers)"
   ]
  },
  {
   "cell_type": "markdown",
   "metadata": {},
   "source": [
    "The next calculation can be divided into 4 parts, and the results of each part will be stored."
   ]
  },
  {
   "cell_type": "markdown",
   "metadata": {},
   "source": [
    "#### Part 1. Build a database of the power integrals\n",
    "This part contains most of the calculations for the project, So it only has a parallel framework. The number of processes *cores* should be set here, which depends on the compute device. Note that *cores* can still be set to 1 although this is a parallel framework."
   ]
  },
  {
   "cell_type": "code",
   "execution_count": 3,
   "metadata": {},
   "outputs": [
    {
     "name": "stdout",
     "output_type": "stream",
     "text": [
      "CI.ADO BHZ\nCalculate CI.ADO.BHZ in 2009\n"
     ]
    },
    {
     "name": "stdout",
     "output_type": "stream",
     "text": [
      "20090101\r20090102\r20090103\r20090104\rfinished:0/4\r"
     ]
    },
    {
     "name": "stdout",
     "output_type": "stream",
     "text": [
      "finished:0/4\r"
     ]
    },
    {
     "name": "stdout",
     "output_type": "stream",
     "text": [
      "finished:0/4\r"
     ]
    },
    {
     "name": "stdout",
     "output_type": "stream",
     "text": [
      "finished:0/4\r"
     ]
    },
    {
     "name": "stdout",
     "output_type": "stream",
     "text": [
      "finished:0/4\r"
     ]
    },
    {
     "name": "stdout",
     "output_type": "stream",
     "text": [
      "finished:0/4\r"
     ]
    },
    {
     "name": "stdout",
     "output_type": "stream",
     "text": [
      "finished:0/4\r"
     ]
    },
    {
     "name": "stdout",
     "output_type": "stream",
     "text": [
      "finished:0/4\r"
     ]
    },
    {
     "name": "stdout",
     "output_type": "stream",
     "text": [
      "finished:0/4\r"
     ]
    },
    {
     "name": "stdout",
     "output_type": "stream",
     "text": [
      "finished:0/4\r"
     ]
    },
    {
     "name": "stdout",
     "output_type": "stream",
     "text": [
      "finished:2/4\r"
     ]
    },
    {
     "name": "stdout",
     "output_type": "stream",
     "text": [
      "finished:2/4\r"
     ]
    },
    {
     "name": "stdout",
     "output_type": "stream",
     "text": [
      "finished:2/4\r"
     ]
    },
    {
     "name": "stdout",
     "output_type": "stream",
     "text": [
      "finished:2/4\r"
     ]
    },
    {
     "name": "stdout",
     "output_type": "stream",
     "text": [
      "finished:2/4\r"
     ]
    },
    {
     "name": "stdout",
     "output_type": "stream",
     "text": [
      "finished:2/4\r"
     ]
    },
    {
     "name": "stdout",
     "output_type": "stream",
     "text": [
      "finished:2/4\r"
     ]
    },
    {
     "name": "stdout",
     "output_type": "stream",
     "text": [
      "finished:2/4\r"
     ]
    },
    {
     "name": "stdout",
     "output_type": "stream",
     "text": [
      "finished:4/4\r"
     ]
    }
   ],
   "source": [
    "my_cores = 2\n",
    "detector.net_pi(cores=my_cores)"
   ]
  },
  {
   "cell_type": "markdown",
   "metadata": {},
   "source": [
    "Now we have a database for testing different parameters in subsequent calculations."
   ]
  },
  {
   "cell_type": "markdown",
   "metadata": {},
   "source": [
    "#### Part 2. Calculate the PIR values of teleseismic earthquakes\n",
    "A catalog of teleseismic events is needed, e.g. *data/teleseismic_catalog.csv*. The basic informations of \"time\", \"latitude\", \"longitude\", \"depth\", \"mag\" is nesseary and can be obtained from IRIS or USGS. Moreover, the upper (\"f_max\") and lower (\"f_min\") limits of frequency for integrals, length of frequency bin (\"f_step\") in the power integral database, begin and end times of T_b and T_e windows and distance between the teleseismic event and the research area need to be set in the catalog. For example, the frequency bin is 5 if the \"f_win_list\" is [[5, 10], [10, 15], [15, 20]].\n",
    "Here, we provide a method to select the T_b and T_e windows, which is five hours for T_b and T_e is between arrivals of two teleseismic waves with speeds of 5 and 2 km/s. The function *Bvel_Evel* is the inplement of this kind of windows."
   ]
  },
  {
   "cell_type": "code",
   "execution_count": 4,
   "metadata": {},
   "outputs": [],
   "source": [
    "Tb = 18000\n",
    "vel_B = 5.0\n",
    "vel_E = 2.0\n",
    "ref_lat = 35.81574\n",
    "ref_lon = -117.59751\n",
    "Bvel_Evel(os.path.join(hypers['info']['root_path'],hypers['tele_pir']['tele_catalog']), \n",
    "          ref_lat, ref_lon, Tb, vel_B, vel_E)"
   ]
  },
  {
   "cell_type": "markdown",
   "metadata": {},
   "source": [
    "After preparing the catalog, we can start calculation the PIR values of teleseismic earthquakes."
   ]
  },
  {
   "cell_type": "code",
   "execution_count": 5,
   "metadata": {},
   "outputs": [
    {
     "name": "stdout",
     "output_type": "stream",
     "text": [
      "Calculate pir of 2009-01-03T22:33:40.290000Z\n"
     ]
    },
    {
     "name": "stdout",
     "output_type": "stream",
     "text": [
      "finished:0/1\r"
     ]
    },
    {
     "name": "stdout",
     "output_type": "stream",
     "text": [
      "finished:1/1\r"
     ]
    }
   ],
   "source": [
    "detector.net_tele_pir(cores=my_cores)"
   ]
  },
  {
   "cell_type": "markdown",
   "metadata": {},
   "source": [
    "#### Part 2. Calculate the PIR values of teleseismic earthquakes"
   ]
  },
  {
   "cell_type": "code",
   "execution_count": 6,
   "metadata": {},
   "outputs": [
    {
     "name": "stdout",
     "output_type": "stream",
     "text": [
      "Background days for: 2009-01-03T22:33:40.290000Z\n"
     ]
    }
   ],
   "source": [
    "detector.gen_background_catalog()"
   ]
  },
  {
   "cell_type": "markdown",
   "metadata": {},
   "source": [
    "Then, calculate the PIR values."
   ]
  },
  {
   "cell_type": "code",
   "execution_count": 7,
   "metadata": {},
   "outputs": [
    {
     "name": "stdout",
     "output_type": "stream",
     "text": [
      "Calculate pir of 2008-10-05T22:33:40.290000Z\n"
     ]
    },
    {
     "name": "stdout",
     "output_type": "stream",
     "text": [
      "Calculate pir of 2008-10-06T22:33:40.290000Z\n"
     ]
    },
    {
     "name": "stdout",
     "output_type": "stream",
     "text": [
      "Calculate pir of 2008-10-07T22:33:40.290000Z\n"
     ]
    },
    {
     "name": "stdout",
     "output_type": "stream",
     "text": [
      "Calculate pir of 2008-10-08T22:33:40.290000Z\n"
     ]
    },
    {
     "name": "stdout",
     "output_type": "stream",
     "text": [
      "Calculate pir of 2008-10-09T22:33:40.290000Z\n"
     ]
    },
    {
     "name": "stdout",
     "output_type": "stream",
     "text": [
      "Calculate pir of 2008-10-10T22:33:40.290000Z\n"
     ]
    },
    {
     "name": "stdout",
     "output_type": "stream",
     "text": [
      "Calculate pir of 2008-10-11T22:33:40.290000Z\n"
     ]
    },
    {
     "name": "stdout",
     "output_type": "stream",
     "text": [
      "Calculate pir of 2008-10-12T22:33:40.290000Z\n"
     ]
    },
    {
     "name": "stdout",
     "output_type": "stream",
     "text": [
      "Calculate pir of 2008-10-13T22:33:40.290000Z\n"
     ]
    },
    {
     "name": "stdout",
     "output_type": "stream",
     "text": [
      "Calculate pir of 2008-10-14T22:33:40.290000Z\n"
     ]
    },
    {
     "name": "stdout",
     "output_type": "stream",
     "text": [
      "Calculate pir of 2008-10-15T22:33:40.290000Z\n"
     ]
    },
    {
     "name": "stdout",
     "output_type": "stream",
     "text": [
      "Calculate pir of 2008-10-16T22:33:40.290000Z\n"
     ]
    },
    {
     "name": "stdout",
     "output_type": "stream",
     "text": [
      "Calculate pir of 2008-10-17T22:33:40.290000Z\n"
     ]
    },
    {
     "name": "stdout",
     "output_type": "stream",
     "text": [
      "Calculate pir of 2008-10-18T22:33:40.290000Z\n"
     ]
    },
    {
     "name": "stdout",
     "output_type": "stream",
     "text": [
      "Calculate pir of 2008-10-19T22:33:40.290000Z\n"
     ]
    },
    {
     "name": "stdout",
     "output_type": "stream",
     "text": [
      "Calculate pir of 2008-10-20T22:33:40.290000Z\n"
     ]
    },
    {
     "name": "stdout",
     "output_type": "stream",
     "text": [
      "Calculate pir of 2008-10-21T22:33:40.290000Z\n"
     ]
    },
    {
     "name": "stdout",
     "output_type": "stream",
     "text": [
      "Calculate pir of 2008-10-22T22:33:40.290000Z\n"
     ]
    },
    {
     "name": "stdout",
     "output_type": "stream",
     "text": [
      "Calculate pir of 2008-10-23T22:33:40.290000Z\n"
     ]
    },
    {
     "name": "stdout",
     "output_type": "stream",
     "text": [
      "Calculate pir of 2008-10-24T22:33:40.290000Z\n"
     ]
    },
    {
     "name": "stdout",
     "output_type": "stream",
     "text": [
      "Calculate pir of 2008-10-25T22:33:40.290000Z\n"
     ]
    },
    {
     "name": "stdout",
     "output_type": "stream",
     "text": [
      "Calculate pir of 2008-10-26T22:33:40.290000Z\n"
     ]
    },
    {
     "name": "stdout",
     "output_type": "stream",
     "text": [
      "Calculate pir of 2008-10-27T22:33:40.290000Z\n"
     ]
    },
    {
     "name": "stdout",
     "output_type": "stream",
     "text": [
      "Calculate pir of 2008-10-28T22:33:40.290000Z\n"
     ]
    },
    {
     "name": "stdout",
     "output_type": "stream",
     "text": [
      "Calculate pir of 2008-10-29T22:33:40.290000Z\n"
     ]
    },
    {
     "name": "stdout",
     "output_type": "stream",
     "text": [
      "Calculate pir of 2008-10-30T22:33:40.290000Z\n"
     ]
    },
    {
     "name": "stdout",
     "output_type": "stream",
     "text": [
      "finished:0/1\r"
     ]
    },
    {
     "name": "stdout",
     "output_type": "stream",
     "text": [
      "Calculate pir of 2008-10-31T22:33:40.290000Z\n"
     ]
    },
    {
     "name": "stdout",
     "output_type": "stream",
     "text": [
      "Calculate pir of 2008-11-01T22:33:40.290000Z\n"
     ]
    },
    {
     "name": "stdout",
     "output_type": "stream",
     "text": [
      "Calculate pir of 2008-11-02T22:33:40.290000Z\n"
     ]
    },
    {
     "name": "stdout",
     "output_type": "stream",
     "text": [
      "Calculate pir of 2008-11-03T22:33:40.290000Z\n"
     ]
    },
    {
     "name": "stdout",
     "output_type": "stream",
     "text": [
      "Calculate pir of 2008-11-04T22:33:40.290000Z\n"
     ]
    },
    {
     "name": "stdout",
     "output_type": "stream",
     "text": [
      "Calculate pir of 2008-11-05T22:33:40.290000Z\n"
     ]
    },
    {
     "name": "stdout",
     "output_type": "stream",
     "text": [
      "Calculate pir of 2008-11-06T22:33:40.290000Z\n"
     ]
    },
    {
     "name": "stdout",
     "output_type": "stream",
     "text": [
      "Calculate pir of 2008-11-07T22:33:40.290000Z\n"
     ]
    },
    {
     "name": "stdout",
     "output_type": "stream",
     "text": [
      "Calculate pir of 2008-11-08T22:33:40.290000Z\n"
     ]
    },
    {
     "name": "stdout",
     "output_type": "stream",
     "text": [
      "Calculate pir of 2008-11-09T22:33:40.290000Z\n"
     ]
    },
    {
     "name": "stdout",
     "output_type": "stream",
     "text": [
      "Calculate pir of 2008-11-10T22:33:40.290000Z\n"
     ]
    },
    {
     "name": "stdout",
     "output_type": "stream",
     "text": [
      "Calculate pir of 2008-11-11T22:33:40.290000Z\n"
     ]
    },
    {
     "name": "stdout",
     "output_type": "stream",
     "text": [
      "Calculate pir of 2008-11-12T22:33:40.290000Z\n"
     ]
    },
    {
     "name": "stdout",
     "output_type": "stream",
     "text": [
      "Calculate pir of 2008-11-13T22:33:40.290000Z\n"
     ]
    },
    {
     "name": "stdout",
     "output_type": "stream",
     "text": [
      "Calculate pir of 2008-11-14T22:33:40.290000Z\n"
     ]
    },
    {
     "name": "stdout",
     "output_type": "stream",
     "text": [
      "Calculate pir of 2008-11-15T22:33:40.290000Z\n"
     ]
    },
    {
     "name": "stdout",
     "output_type": "stream",
     "text": [
      "Calculate pir of 2008-11-16T22:33:40.290000Z\n"
     ]
    },
    {
     "name": "stdout",
     "output_type": "stream",
     "text": [
      "Calculate pir of 2008-11-17T22:33:40.290000Z\n"
     ]
    },
    {
     "name": "stdout",
     "output_type": "stream",
     "text": [
      "Calculate pir of 2008-11-18T22:33:40.290000Z\n"
     ]
    },
    {
     "name": "stdout",
     "output_type": "stream",
     "text": [
      "Calculate pir of 2008-11-19T22:33:40.290000Z\n"
     ]
    },
    {
     "name": "stdout",
     "output_type": "stream",
     "text": [
      "Calculate pir of 2008-11-20T22:33:40.290000Z\n"
     ]
    },
    {
     "name": "stdout",
     "output_type": "stream",
     "text": [
      "Calculate pir of 2008-11-21T22:33:40.290000Z\n"
     ]
    },
    {
     "name": "stdout",
     "output_type": "stream",
     "text": [
      "Calculate pir of 2008-11-22T22:33:40.290000Z\n"
     ]
    },
    {
     "name": "stdout",
     "output_type": "stream",
     "text": [
      "Calculate pir of 2008-11-23T22:33:40.290000Z\n"
     ]
    },
    {
     "name": "stdout",
     "output_type": "stream",
     "text": [
      "Calculate pir of 2008-11-24T22:33:40.290000Z\n"
     ]
    },
    {
     "name": "stdout",
     "output_type": "stream",
     "text": [
      "Calculate pir of 2008-11-25T22:33:40.290000Z\n"
     ]
    },
    {
     "name": "stdout",
     "output_type": "stream",
     "text": [
      "Calculate pir of 2008-11-26T22:33:40.290000Z\n"
     ]
    },
    {
     "name": "stdout",
     "output_type": "stream",
     "text": [
      "Calculate pir of 2008-11-27T22:33:40.290000Z\n"
     ]
    },
    {
     "name": "stdout",
     "output_type": "stream",
     "text": [
      "Calculate pir of 2008-11-28T22:33:40.290000Z\n"
     ]
    },
    {
     "name": "stdout",
     "output_type": "stream",
     "text": [
      "Calculate pir of 2008-11-29T22:33:40.290000Z\n"
     ]
    },
    {
     "name": "stdout",
     "output_type": "stream",
     "text": [
      "Calculate pir of 2008-11-30T22:33:40.290000Z\n"
     ]
    },
    {
     "name": "stdout",
     "output_type": "stream",
     "text": [
      "Calculate pir of 2008-12-01T22:33:40.290000Z\n"
     ]
    },
    {
     "name": "stdout",
     "output_type": "stream",
     "text": [
      "Calculate pir of 2008-12-02T22:33:40.290000Z\n"
     ]
    },
    {
     "name": "stdout",
     "output_type": "stream",
     "text": [
      "Calculate pir of 2008-12-03T22:33:40.290000Z\n"
     ]
    },
    {
     "name": "stdout",
     "output_type": "stream",
     "text": [
      "Calculate pir of 2008-12-04T22:33:40.290000Z\n"
     ]
    },
    {
     "name": "stdout",
     "output_type": "stream",
     "text": [
      "Calculate pir of 2008-12-05T22:33:40.290000Z\n"
     ]
    },
    {
     "name": "stdout",
     "output_type": "stream",
     "text": [
      "Calculate pir of 2008-12-06T22:33:40.290000Z\n"
     ]
    },
    {
     "name": "stdout",
     "output_type": "stream",
     "text": [
      "Calculate pir of 2008-12-07T22:33:40.290000Z\n"
     ]
    },
    {
     "name": "stdout",
     "output_type": "stream",
     "text": [
      "Calculate pir of 2008-12-08T22:33:40.290000Z\n"
     ]
    },
    {
     "name": "stdout",
     "output_type": "stream",
     "text": [
      "Calculate pir of 2008-12-09T22:33:40.290000Z\n"
     ]
    },
    {
     "name": "stdout",
     "output_type": "stream",
     "text": [
      "Calculate pir of 2008-12-10T22:33:40.290000Z\n"
     ]
    },
    {
     "name": "stdout",
     "output_type": "stream",
     "text": [
      "Calculate pir of 2008-12-11T22:33:40.290000Z\n"
     ]
    },
    {
     "name": "stdout",
     "output_type": "stream",
     "text": [
      "Calculate pir of 2008-12-12T22:33:40.290000Z\n"
     ]
    },
    {
     "name": "stdout",
     "output_type": "stream",
     "text": [
      "Calculate pir of 2008-12-13T22:33:40.290000Z\n"
     ]
    },
    {
     "name": "stdout",
     "output_type": "stream",
     "text": [
      "Calculate pir of 2008-12-14T22:33:40.290000Z\n"
     ]
    },
    {
     "name": "stdout",
     "output_type": "stream",
     "text": [
      "Calculate pir of 2008-12-15T22:33:40.290000Z\n"
     ]
    },
    {
     "name": "stdout",
     "output_type": "stream",
     "text": [
      "Calculate pir of 2008-12-16T22:33:40.290000Z\n"
     ]
    },
    {
     "name": "stdout",
     "output_type": "stream",
     "text": [
      "Calculate pir of 2008-12-17T22:33:40.290000Z\n"
     ]
    },
    {
     "name": "stdout",
     "output_type": "stream",
     "text": [
      "Calculate pir of 2008-12-18T22:33:40.290000Z\n"
     ]
    },
    {
     "name": "stdout",
     "output_type": "stream",
     "text": [
      "Calculate pir of 2008-12-19T22:33:40.290000Z\n"
     ]
    },
    {
     "name": "stdout",
     "output_type": "stream",
     "text": [
      "Calculate pir of 2008-12-20T22:33:40.290000Z\n"
     ]
    },
    {
     "name": "stdout",
     "output_type": "stream",
     "text": [
      "Calculate pir of 2008-12-21T22:33:40.290000Z\n"
     ]
    },
    {
     "name": "stdout",
     "output_type": "stream",
     "text": [
      "Calculate pir of 2008-12-22T22:33:40.290000Z\n"
     ]
    },
    {
     "name": "stdout",
     "output_type": "stream",
     "text": [
      "Calculate pir of 2008-12-23T22:33:40.290000Z\n"
     ]
    },
    {
     "name": "stdout",
     "output_type": "stream",
     "text": [
      "Calculate pir of 2008-12-24T22:33:40.290000Z\n"
     ]
    },
    {
     "name": "stdout",
     "output_type": "stream",
     "text": [
      "Calculate pir of 2008-12-25T22:33:40.290000Z\n"
     ]
    },
    {
     "name": "stdout",
     "output_type": "stream",
     "text": [
      "Calculate pir of 2008-12-26T22:33:40.290000Z\n"
     ]
    },
    {
     "name": "stdout",
     "output_type": "stream",
     "text": [
      "Calculate pir of 2008-12-27T22:33:40.290000Z\n"
     ]
    },
    {
     "name": "stdout",
     "output_type": "stream",
     "text": [
      "Calculate pir of 2008-12-28T22:33:40.290000Z\n"
     ]
    },
    {
     "name": "stdout",
     "output_type": "stream",
     "text": [
      "Calculate pir of 2008-12-29T22:33:40.290000Z\n"
     ]
    },
    {
     "name": "stdout",
     "output_type": "stream",
     "text": [
      "Calculate pir of 2008-12-30T22:33:40.290000Z\n"
     ]
    },
    {
     "name": "stdout",
     "output_type": "stream",
     "text": [
      "Calculate pir of 2008-12-31T22:33:40.290000Z\n"
     ]
    },
    {
     "name": "stdout",
     "output_type": "stream",
     "text": [
      "Calculate pir of 2009-01-01T22:33:40.290000Z\n"
     ]
    },
    {
     "name": "stdout",
     "output_type": "stream",
     "text": [
      "finished:0/1\r"
     ]
    },
    {
     "name": "stdout",
     "output_type": "stream",
     "text": [
      "Calculate pir of 2009-01-02T22:33:40.290000Z\n"
     ]
    },
    {
     "name": "stdout",
     "output_type": "stream",
     "text": [
      "Calculate pir of 2009-01-04T22:33:40.290000Z\n"
     ]
    },
    {
     "name": "stdout",
     "output_type": "stream",
     "text": [
      "Calculate pir of 2009-01-05T22:33:40.290000Z\n"
     ]
    },
    {
     "name": "stdout",
     "output_type": "stream",
     "text": [
      "Calculate pir of 2009-01-06T22:33:40.290000Z\n"
     ]
    },
    {
     "name": "stdout",
     "output_type": "stream",
     "text": [
      "Calculate pir of 2009-01-07T22:33:40.290000Z\n"
     ]
    },
    {
     "name": "stdout",
     "output_type": "stream",
     "text": [
      "Calculate pir of 2009-01-08T22:33:40.290000Z\n"
     ]
    },
    {
     "name": "stdout",
     "output_type": "stream",
     "text": [
      "Calculate pir of 2009-01-09T22:33:40.290000Z\n"
     ]
    },
    {
     "name": "stdout",
     "output_type": "stream",
     "text": [
      "Calculate pir of 2009-01-10T22:33:40.290000Z\n"
     ]
    },
    {
     "name": "stdout",
     "output_type": "stream",
     "text": [
      "Calculate pir of 2009-01-11T22:33:40.290000Z\n"
     ]
    },
    {
     "name": "stdout",
     "output_type": "stream",
     "text": [
      "Calculate pir of 2009-01-12T22:33:40.290000Z\n"
     ]
    },
    {
     "name": "stdout",
     "output_type": "stream",
     "text": [
      "Calculate pir of 2009-01-13T22:33:40.290000Z\n"
     ]
    },
    {
     "name": "stdout",
     "output_type": "stream",
     "text": [
      "Calculate pir of 2009-01-14T22:33:40.290000Z\n"
     ]
    },
    {
     "name": "stdout",
     "output_type": "stream",
     "text": [
      "Calculate pir of 2009-01-15T22:33:40.290000Z\n"
     ]
    },
    {
     "name": "stdout",
     "output_type": "stream",
     "text": [
      "Calculate pir of 2009-01-16T22:33:40.290000Z\n"
     ]
    },
    {
     "name": "stdout",
     "output_type": "stream",
     "text": [
      "Calculate pir of 2009-01-17T22:33:40.290000Z\n"
     ]
    },
    {
     "name": "stdout",
     "output_type": "stream",
     "text": [
      "Calculate pir of 2009-01-18T22:33:40.290000Z\n"
     ]
    },
    {
     "name": "stdout",
     "output_type": "stream",
     "text": [
      "Calculate pir of 2009-01-19T22:33:40.290000Z\n"
     ]
    },
    {
     "name": "stdout",
     "output_type": "stream",
     "text": [
      "Calculate pir of 2009-01-20T22:33:40.290000Z\n"
     ]
    },
    {
     "name": "stdout",
     "output_type": "stream",
     "text": [
      "Calculate pir of 2009-01-21T22:33:40.290000Z\n"
     ]
    },
    {
     "name": "stdout",
     "output_type": "stream",
     "text": [
      "Calculate pir of 2009-01-22T22:33:40.290000Z\n"
     ]
    },
    {
     "name": "stdout",
     "output_type": "stream",
     "text": [
      "Calculate pir of 2009-01-23T22:33:40.290000Z\n"
     ]
    },
    {
     "name": "stdout",
     "output_type": "stream",
     "text": [
      "Calculate pir of 2009-01-24T22:33:40.290000Z\n"
     ]
    },
    {
     "name": "stdout",
     "output_type": "stream",
     "text": [
      "Calculate pir of 2009-01-25T22:33:40.290000Z\n"
     ]
    },
    {
     "name": "stdout",
     "output_type": "stream",
     "text": [
      "Calculate pir of 2009-01-26T22:33:40.290000Z\n"
     ]
    },
    {
     "name": "stdout",
     "output_type": "stream",
     "text": [
      "Calculate pir of 2009-01-27T22:33:40.290000Z\n"
     ]
    },
    {
     "name": "stdout",
     "output_type": "stream",
     "text": [
      "Calculate pir of 2009-01-28T22:33:40.290000Z\n"
     ]
    },
    {
     "name": "stdout",
     "output_type": "stream",
     "text": [
      "Calculate pir of 2009-01-29T22:33:40.290000Z\n"
     ]
    },
    {
     "name": "stdout",
     "output_type": "stream",
     "text": [
      "Calculate pir of 2009-01-30T22:33:40.290000Z\n"
     ]
    },
    {
     "name": "stdout",
     "output_type": "stream",
     "text": [
      "Calculate pir of 2009-01-31T22:33:40.290000Z\n"
     ]
    },
    {
     "name": "stdout",
     "output_type": "stream",
     "text": [
      "Calculate pir of 2009-02-01T22:33:40.290000Z\n"
     ]
    },
    {
     "name": "stdout",
     "output_type": "stream",
     "text": [
      "Calculate pir of 2009-02-02T22:33:40.290000Z\n"
     ]
    },
    {
     "name": "stdout",
     "output_type": "stream",
     "text": [
      "Calculate pir of 2009-02-03T22:33:40.290000Z\n"
     ]
    },
    {
     "name": "stdout",
     "output_type": "stream",
     "text": [
      "Calculate pir of 2009-02-04T22:33:40.290000Z\n"
     ]
    },
    {
     "name": "stdout",
     "output_type": "stream",
     "text": [
      "Calculate pir of 2009-02-05T22:33:40.290000Z\n"
     ]
    },
    {
     "name": "stdout",
     "output_type": "stream",
     "text": [
      "Calculate pir of 2009-02-06T22:33:40.290000Z\n"
     ]
    },
    {
     "name": "stdout",
     "output_type": "stream",
     "text": [
      "Calculate pir of 2009-02-07T22:33:40.290000Z\n"
     ]
    },
    {
     "name": "stdout",
     "output_type": "stream",
     "text": [
      "Calculate pir of 2009-02-08T22:33:40.290000Z\n"
     ]
    },
    {
     "name": "stdout",
     "output_type": "stream",
     "text": [
      "Calculate pir of 2009-02-09T22:33:40.290000Z\n"
     ]
    },
    {
     "name": "stdout",
     "output_type": "stream",
     "text": [
      "finished:0/1\r"
     ]
    },
    {
     "name": "stdout",
     "output_type": "stream",
     "text": [
      "Calculate pir of 2009-02-10T22:33:40.290000Z\n"
     ]
    },
    {
     "name": "stdout",
     "output_type": "stream",
     "text": [
      "Calculate pir of 2009-02-11T22:33:40.290000Z\n"
     ]
    },
    {
     "name": "stdout",
     "output_type": "stream",
     "text": [
      "Calculate pir of 2009-02-12T22:33:40.290000Z\n"
     ]
    },
    {
     "name": "stdout",
     "output_type": "stream",
     "text": [
      "Calculate pir of 2009-02-13T22:33:40.290000Z\n"
     ]
    },
    {
     "name": "stdout",
     "output_type": "stream",
     "text": [
      "Calculate pir of 2009-02-14T22:33:40.290000Z\n"
     ]
    },
    {
     "name": "stdout",
     "output_type": "stream",
     "text": [
      "Calculate pir of 2009-02-15T22:33:40.290000Z\n"
     ]
    },
    {
     "name": "stdout",
     "output_type": "stream",
     "text": [
      "Calculate pir of 2009-02-16T22:33:40.290000Z\n"
     ]
    },
    {
     "name": "stdout",
     "output_type": "stream",
     "text": [
      "Calculate pir of 2009-02-17T22:33:40.290000Z\n"
     ]
    },
    {
     "name": "stdout",
     "output_type": "stream",
     "text": [
      "Calculate pir of 2009-02-18T22:33:40.290000Z\n"
     ]
    },
    {
     "name": "stdout",
     "output_type": "stream",
     "text": [
      "Calculate pir of 2009-02-19T22:33:40.290000Z\n"
     ]
    },
    {
     "name": "stdout",
     "output_type": "stream",
     "text": [
      "Calculate pir of 2009-02-20T22:33:40.290000Z\n"
     ]
    },
    {
     "name": "stdout",
     "output_type": "stream",
     "text": [
      "Calculate pir of 2009-02-21T22:33:40.290000Z\n"
     ]
    },
    {
     "name": "stdout",
     "output_type": "stream",
     "text": [
      "Calculate pir of 2009-02-22T22:33:40.290000Z\n"
     ]
    },
    {
     "name": "stdout",
     "output_type": "stream",
     "text": [
      "Calculate pir of 2009-02-23T22:33:40.290000Z\n"
     ]
    },
    {
     "name": "stdout",
     "output_type": "stream",
     "text": [
      "Calculate pir of 2009-02-24T22:33:40.290000Z\n"
     ]
    },
    {
     "name": "stdout",
     "output_type": "stream",
     "text": [
      "Calculate pir of 2009-02-25T22:33:40.290000Z\n"
     ]
    },
    {
     "name": "stdout",
     "output_type": "stream",
     "text": [
      "Calculate pir of 2009-02-26T22:33:40.290000Z\n"
     ]
    },
    {
     "name": "stdout",
     "output_type": "stream",
     "text": [
      "Calculate pir of 2009-02-27T22:33:40.290000Z\n"
     ]
    },
    {
     "name": "stdout",
     "output_type": "stream",
     "text": [
      "Calculate pir of 2009-02-28T22:33:40.290000Z\n"
     ]
    },
    {
     "name": "stdout",
     "output_type": "stream",
     "text": [
      "Calculate pir of 2009-03-01T22:33:40.290000Z\n"
     ]
    },
    {
     "name": "stdout",
     "output_type": "stream",
     "text": [
      "Calculate pir of 2009-03-02T22:33:40.290000Z\n"
     ]
    },
    {
     "name": "stdout",
     "output_type": "stream",
     "text": [
      "Calculate pir of 2009-03-03T22:33:40.290000Z\n"
     ]
    },
    {
     "name": "stdout",
     "output_type": "stream",
     "text": [
      "Calculate pir of 2009-03-04T22:33:40.290000Z\n"
     ]
    },
    {
     "name": "stdout",
     "output_type": "stream",
     "text": [
      "Calculate pir of 2009-03-05T22:33:40.290000Z\n"
     ]
    },
    {
     "name": "stdout",
     "output_type": "stream",
     "text": [
      "Calculate pir of 2009-03-06T22:33:40.290000Z\n"
     ]
    },
    {
     "name": "stdout",
     "output_type": "stream",
     "text": [
      "Calculate pir of 2009-03-07T22:33:40.290000Z\n"
     ]
    },
    {
     "name": "stdout",
     "output_type": "stream",
     "text": [
      "Calculate pir of 2009-03-08T22:33:40.290000Z\n"
     ]
    },
    {
     "name": "stdout",
     "output_type": "stream",
     "text": [
      "Calculate pir of 2009-03-09T22:33:40.290000Z\n"
     ]
    },
    {
     "name": "stdout",
     "output_type": "stream",
     "text": [
      "Calculate pir of 2009-03-10T22:33:40.290000Z\n"
     ]
    },
    {
     "name": "stdout",
     "output_type": "stream",
     "text": [
      "Calculate pir of 2009-03-11T22:33:40.290000Z\n"
     ]
    },
    {
     "name": "stdout",
     "output_type": "stream",
     "text": [
      "Calculate pir of 2009-03-12T22:33:40.290000Z\n"
     ]
    },
    {
     "name": "stdout",
     "output_type": "stream",
     "text": [
      "Calculate pir of 2009-03-13T22:33:40.290000Z\n"
     ]
    },
    {
     "name": "stdout",
     "output_type": "stream",
     "text": [
      "Calculate pir of 2009-03-14T22:33:40.290000Z\n"
     ]
    },
    {
     "name": "stdout",
     "output_type": "stream",
     "text": [
      "Calculate pir of 2009-03-15T22:33:40.290000Z\n"
     ]
    },
    {
     "name": "stdout",
     "output_type": "stream",
     "text": [
      "Calculate pir of 2009-03-16T22:33:40.290000Z\n"
     ]
    },
    {
     "name": "stdout",
     "output_type": "stream",
     "text": [
      "Calculate pir of 2009-03-17T22:33:40.290000Z\n"
     ]
    },
    {
     "name": "stdout",
     "output_type": "stream",
     "text": [
      "Calculate pir of 2009-03-18T22:33:40.290000Z\n"
     ]
    },
    {
     "name": "stdout",
     "output_type": "stream",
     "text": [
      "Calculate pir of 2009-03-19T22:33:40.290000Z\n"
     ]
    },
    {
     "name": "stdout",
     "output_type": "stream",
     "text": [
      "Calculate pir of 2009-03-20T22:33:40.290000Z\n"
     ]
    },
    {
     "name": "stdout",
     "output_type": "stream",
     "text": [
      "Calculate pir of 2009-03-21T22:33:40.290000Z\n"
     ]
    },
    {
     "name": "stdout",
     "output_type": "stream",
     "text": [
      "Calculate pir of 2009-03-22T22:33:40.290000Z\n"
     ]
    },
    {
     "name": "stdout",
     "output_type": "stream",
     "text": [
      "Calculate pir of 2009-03-23T22:33:40.290000Z\n"
     ]
    },
    {
     "name": "stdout",
     "output_type": "stream",
     "text": [
      "Calculate pir of 2009-03-24T22:33:40.290000Z\n"
     ]
    },
    {
     "name": "stdout",
     "output_type": "stream",
     "text": [
      "Calculate pir of 2009-03-25T22:33:40.290000Z\n"
     ]
    },
    {
     "name": "stdout",
     "output_type": "stream",
     "text": [
      "Calculate pir of 2009-03-26T22:33:40.290000Z\n"
     ]
    },
    {
     "name": "stdout",
     "output_type": "stream",
     "text": [
      "Calculate pir of 2009-03-27T22:33:40.290000Z\n"
     ]
    },
    {
     "name": "stdout",
     "output_type": "stream",
     "text": [
      "Calculate pir of 2009-03-28T22:33:40.290000Z\n"
     ]
    },
    {
     "name": "stdout",
     "output_type": "stream",
     "text": [
      "Calculate pir of 2009-03-29T22:33:40.290000Z\n"
     ]
    },
    {
     "name": "stdout",
     "output_type": "stream",
     "text": [
      "Calculate pir of 2009-03-30T22:33:40.290000Z\n"
     ]
    },
    {
     "name": "stdout",
     "output_type": "stream",
     "text": [
      "Calculate pir of 2009-03-31T22:33:40.290000Z\n"
     ]
    },
    {
     "name": "stdout",
     "output_type": "stream",
     "text": [
      "Calculate pir of 2009-04-01T22:33:40.290000Z\n"
     ]
    },
    {
     "name": "stdout",
     "output_type": "stream",
     "text": [
      "Calculate pir of 2009-04-02T22:33:40.290000Z\n"
     ]
    },
    {
     "name": "stdout",
     "output_type": "stream",
     "text": [
      "Calculate pir of 2009-04-03T22:33:40.290000Z\n"
     ]
    },
    {
     "name": "stdout",
     "output_type": "stream",
     "text": [
      "finished:1/1\r"
     ]
    }
   ],
   "source": [
    "detector.net_background_pir(cores=my_cores)"
   ]
  },
  {
   "cell_type": "markdown",
   "metadata": {},
   "source": [
    "At the end of this section, we need to match the PIR of the teleseismic event with the PIRs of corresponding background days."
   ]
  },
  {
   "cell_type": "code",
   "execution_count": 8,
   "metadata": {},
   "outputs": [
    {
     "name": "stdout",
     "output_type": "stream",
     "text": [
      "Associate data of 2009-01-03T22:33:40.290000Z\n"
     ]
    },
    {
     "name": "stdout",
     "output_type": "stream",
     "text": [
      "finished:0/1\r"
     ]
    },
    {
     "name": "stdout",
     "output_type": "stream",
     "text": [
      "finished:1/1\r"
     ]
    }
   ],
   "source": [
    "detector.net_background_pir_asso(cores=my_cores)"
   ]
  },
  {
   "cell_type": "markdown",
   "metadata": {},
   "source": [
    "#### Part 4. Calculate the confidence levels\n"
   ]
  },
  {
   "cell_type": "code",
   "execution_count": 9,
   "metadata": {},
   "outputs": [
    {
     "name": "stdout",
     "output_type": "stream",
     "text": [
      "Calculate cl of 2009-01-03T22:33:40.290000Z\n"
     ]
    },
    {
     "name": "stdout",
     "output_type": "stream",
     "text": [
      "finished:0/1\r"
     ]
    },
    {
     "name": "stdout",
     "output_type": "stream",
     "text": [
      "finished:1/1\r"
     ]
    }
   ],
   "source": [
    "detector.net_cl(cores=my_cores)"
   ]
  },
  {
   "cell_type": "code",
   "execution_count": null,
   "metadata": {},
   "outputs": [],
   "source": []
  }
 ],
 "metadata": {
  "kernelspec": {
   "display_name": "Python 2",
   "language": "python",
   "name": "python2"
  },
  "language_info": {
   "codemirror_mode": {
    "name": "ipython",
    "version": 2
   },
   "file_extension": ".py",
   "mimetype": "text/x-python",
   "name": "python",
   "nbconvert_exporter": "python",
   "pygments_lexer": "ipython2",
   "version": "2.7.6"
  }
 },
 "nbformat": 4,
 "nbformat_minor": 0
}
