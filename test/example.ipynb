{
 "cells": [
  {
   "cell_type": "markdown",
   "metadata": {
    "collapsed": true
   },
   "source": [
    "### Example for HiFi\n",
    "Before calculating, some parameters(or hyperparameters) are needed to be set in the file *parameters.json*. A detailed description of these parameters is as follow.\n",
    "- \"info\"\n",
    "\t+ \"root_path\": project path, which is the path of *test* dictory at here\n",
    "\t+ \"sta_file\": file containing station information in the format like *data/stations.txt*\n",
    "\t+ \"chn_list\": channels\n",
    "- \"pi\"\n",
    "\t+ \"cores\": number of processes depending on the computer device\n",
    "\t+ \"time_segment\": segment of time for calculating power integral\n",
    "\t+ \"f_win_list\": frequency windows\n",
    "\t+ \"gf_info\": informations of istrument response PZ file for each sac file\n",
    "\t+ \"raw_data_path\": dictory of raw sac data\n",
    "\t+ \"pi_database_path\": dictory to store power integral database\n",
    "- \"tele_pir\"\n",
    "\t+ \"tele_catalog\": catalog file of teleseismic events in the format like *data/teleseismic_catalog.csv*\n",
    "\t+ \"tele_pir_path\": dictory to store the power integral ratio (PIR) values of the teleseismic events\n",
    "- \"background_pir\"\n",
    "\t+ \"day_window\": number of background days for one teleseismic event\n",
    "\t+ \"background_catalog\": catalog of the background days\n",
    "\t+ \"background_pir_path\": dictory to store the PIR values of the background days\n",
    "\t+ \"background_pir_associated_path\": dictory to store the background PIR after associating\n",
    "- \"confidence_level\"\n",
    "\t+ \"cl_path\": dictory to store the confidence level\n",
    "\n",
    "Now, let's run it!"
   ]
  },
  {
   "cell_type": "markdown",
   "metadata": {},
   "source": [
    "First, define a HiFi instance."
   ]
  },
  {
   "cell_type": "code",
   "execution_count": 2,
   "metadata": {},
   "outputs": [
    {
     "ename": "FileNotFoundError",
     "evalue": "[Errno 2] No such file or directory: 'parameters.json'",
     "traceback": [
      "\u001b[0;31m---------------------------------------------------------------------------\u001b[0m",
      "\u001b[0;31mFileNotFoundError\u001b[0m                         Traceback (most recent call last)",
      "\u001b[0;32m<ipython-input-2-d3b384aea412>\u001b[0m in \u001b[0;36m<module>\u001b[0;34m()\u001b[0m\n\u001b[1;32m      5\u001b[0m \u001b[0;34m\u001b[0m\u001b[0m\n\u001b[1;32m      6\u001b[0m \u001b[0;34m\u001b[0m\u001b[0m\n\u001b[0;32m----> 7\u001b[0;31m \u001b[0mhypers_f\u001b[0m \u001b[0;34m=\u001b[0m \u001b[0mopen\u001b[0m\u001b[0;34m(\u001b[0m\u001b[0;34m'parameters.json'\u001b[0m\u001b[0;34m,\u001b[0m \u001b[0;34m'r'\u001b[0m\u001b[0;34m,\u001b[0m \u001b[0mencoding\u001b[0m\u001b[0;34m=\u001b[0m\u001b[0;34m'utf-8'\u001b[0m\u001b[0;34m)\u001b[0m\u001b[0;34m\u001b[0m\u001b[0m\n\u001b[0m\u001b[1;32m      8\u001b[0m \u001b[0mhypers\u001b[0m \u001b[0;34m=\u001b[0m \u001b[0mjson\u001b[0m\u001b[0;34m.\u001b[0m\u001b[0mload\u001b[0m\u001b[0;34m(\u001b[0m\u001b[0mhypers_f\u001b[0m\u001b[0;34m)\u001b[0m\u001b[0;34m\u001b[0m\u001b[0m\n\u001b[1;32m      9\u001b[0m \u001b[0mdetector\u001b[0m \u001b[0;34m=\u001b[0m \u001b[0mHiFi\u001b[0m\u001b[0;34m(\u001b[0m\u001b[0mhypers\u001b[0m\u001b[0;34m)\u001b[0m\u001b[0;34m\u001b[0m\u001b[0m\n",
      "\u001b[0;31mFileNotFoundError\u001b[0m: [Errno 2] No such file or directory: 'parameters.json'"
     ],
     "output_type": "error"
    }
   ],
   "source": [
    "import os\n",
    "import json\n",
    "\n",
    "from dyntrigger.hifi.HiFi import HiFi\n",
    "\n",
    "\n",
    "hypers_f = open('parameters.json', 'r', encoding='utf-8')\n",
    "hypers = json.load(hypers_f)\n",
    "detector = HiFi(hypers)"
   ]
  },
  {
   "cell_type": "code",
   "execution_count": null,
   "metadata": {},
   "outputs": [],
   "source": []
  }
 ],
 "metadata": {
  "kernelspec": {
   "display_name": "Python 2",
   "language": "python",
   "name": "python2"
  },
  "language_info": {
   "codemirror_mode": {
    "name": "ipython",
    "version": 2
   },
   "file_extension": ".py",
   "mimetype": "text/x-python",
   "name": "python",
   "nbconvert_exporter": "python",
   "pygments_lexer": "ipython2",
   "version": "2.7.6"
  }
 },
 "nbformat": 4,
 "nbformat_minor": 0
}
